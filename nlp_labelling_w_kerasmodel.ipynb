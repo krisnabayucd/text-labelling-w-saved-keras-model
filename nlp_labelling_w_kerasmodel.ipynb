{
  "nbformat": 4,
  "nbformat_minor": 0,
  "metadata": {
    "colab": {
      "provenance": []
    },
    "kernelspec": {
      "name": "python3",
      "display_name": "Python 3"
    },
    "language_info": {
      "name": "python"
    }
  },
  "cells": [
    {
      "cell_type": "code",
      "execution_count": null,
      "metadata": {
        "id": "h8Ukw_7709YH"
      },
      "outputs": [],
      "source": [
        "from google.colab import files\n",
        "files.upload()"
      ]
    },
    {
      "cell_type": "code",
      "source": [
        "import pandas as pd"
      ],
      "metadata": {
        "id": "GnZMj-fS1Bs7"
      },
      "execution_count": 2,
      "outputs": []
    },
    {
      "cell_type": "code",
      "source": [
        "data = pd.read_csv('reviews.csv')\n",
        "data.head()"
      ],
      "metadata": {
        "colab": {
          "base_uri": "https://localhost:8080/",
          "height": 512
        },
        "id": "f_4seszc1FLs",
        "outputId": "2a60e11e-5d40-433e-fcf0-e8763e65341a"
      },
      "execution_count": 4,
      "outputs": [
        {
          "output_type": "execute_result",
          "data": {
            "text/plain": [
              "                                               title               score  \\\n",
              "0                                             Dull\\n  \\n\\n\\n\\n\\n\\n5/10\\n   \n",
              "1   I wish I enjoyed it like so many did, it just...  \\n\\n\\n\\n\\n\\n3/10\\n   \n",
              "2   Despite all the hype, pretty much your averag...  \\n\\n\\n\\n\\n\\n4/10\\n   \n",
              "3                             I liked it at first.\\n  \\n\\n\\n\\n\\n\\n5/10\\n   \n",
              "4                             Absolutely Overrated\\n  \\n\\n\\n\\n\\n\\n5/10\\n   \n",
              "\n",
              "                                             content  \n",
              "0  I don't have a comic book background (well I d...  \n",
              "1  I feel so bad giving this film a poor rating, ...  \n",
              "2  After the death of his father, Prince T'Challa...  \n",
              "3  I am between a 5 and a 6 on this. It was vastl...  \n",
              "4  \"Black Panther\" is a great deception for any v...  "
            ],
            "text/html": [
              "\n",
              "  <div id=\"df-2186c98a-e64a-4a45-90a9-e1cbc7d94966\">\n",
              "    <div class=\"colab-df-container\">\n",
              "      <div>\n",
              "<style scoped>\n",
              "    .dataframe tbody tr th:only-of-type {\n",
              "        vertical-align: middle;\n",
              "    }\n",
              "\n",
              "    .dataframe tbody tr th {\n",
              "        vertical-align: top;\n",
              "    }\n",
              "\n",
              "    .dataframe thead th {\n",
              "        text-align: right;\n",
              "    }\n",
              "</style>\n",
              "<table border=\"1\" class=\"dataframe\">\n",
              "  <thead>\n",
              "    <tr style=\"text-align: right;\">\n",
              "      <th></th>\n",
              "      <th>title</th>\n",
              "      <th>score</th>\n",
              "      <th>content</th>\n",
              "    </tr>\n",
              "  </thead>\n",
              "  <tbody>\n",
              "    <tr>\n",
              "      <th>0</th>\n",
              "      <td>Dull\\n</td>\n",
              "      <td>\\n\\n\\n\\n\\n\\n5/10\\n</td>\n",
              "      <td>I don't have a comic book background (well I d...</td>\n",
              "    </tr>\n",
              "    <tr>\n",
              "      <th>1</th>\n",
              "      <td>I wish I enjoyed it like so many did, it just...</td>\n",
              "      <td>\\n\\n\\n\\n\\n\\n3/10\\n</td>\n",
              "      <td>I feel so bad giving this film a poor rating, ...</td>\n",
              "    </tr>\n",
              "    <tr>\n",
              "      <th>2</th>\n",
              "      <td>Despite all the hype, pretty much your averag...</td>\n",
              "      <td>\\n\\n\\n\\n\\n\\n4/10\\n</td>\n",
              "      <td>After the death of his father, Prince T'Challa...</td>\n",
              "    </tr>\n",
              "    <tr>\n",
              "      <th>3</th>\n",
              "      <td>I liked it at first.\\n</td>\n",
              "      <td>\\n\\n\\n\\n\\n\\n5/10\\n</td>\n",
              "      <td>I am between a 5 and a 6 on this. It was vastl...</td>\n",
              "    </tr>\n",
              "    <tr>\n",
              "      <th>4</th>\n",
              "      <td>Absolutely Overrated\\n</td>\n",
              "      <td>\\n\\n\\n\\n\\n\\n5/10\\n</td>\n",
              "      <td>\"Black Panther\" is a great deception for any v...</td>\n",
              "    </tr>\n",
              "  </tbody>\n",
              "</table>\n",
              "</div>\n",
              "      <button class=\"colab-df-convert\" onclick=\"convertToInteractive('df-2186c98a-e64a-4a45-90a9-e1cbc7d94966')\"\n",
              "              title=\"Convert this dataframe to an interactive table.\"\n",
              "              style=\"display:none;\">\n",
              "        \n",
              "  <svg xmlns=\"http://www.w3.org/2000/svg\" height=\"24px\"viewBox=\"0 0 24 24\"\n",
              "       width=\"24px\">\n",
              "    <path d=\"M0 0h24v24H0V0z\" fill=\"none\"/>\n",
              "    <path d=\"M18.56 5.44l.94 2.06.94-2.06 2.06-.94-2.06-.94-.94-2.06-.94 2.06-2.06.94zm-11 1L8.5 8.5l.94-2.06 2.06-.94-2.06-.94L8.5 2.5l-.94 2.06-2.06.94zm10 10l.94 2.06.94-2.06 2.06-.94-2.06-.94-.94-2.06-.94 2.06-2.06.94z\"/><path d=\"M17.41 7.96l-1.37-1.37c-.4-.4-.92-.59-1.43-.59-.52 0-1.04.2-1.43.59L10.3 9.45l-7.72 7.72c-.78.78-.78 2.05 0 2.83L4 21.41c.39.39.9.59 1.41.59.51 0 1.02-.2 1.41-.59l7.78-7.78 2.81-2.81c.8-.78.8-2.07 0-2.86zM5.41 20L4 18.59l7.72-7.72 1.47 1.35L5.41 20z\"/>\n",
              "  </svg>\n",
              "      </button>\n",
              "      \n",
              "  <style>\n",
              "    .colab-df-container {\n",
              "      display:flex;\n",
              "      flex-wrap:wrap;\n",
              "      gap: 12px;\n",
              "    }\n",
              "\n",
              "    .colab-df-convert {\n",
              "      background-color: #E8F0FE;\n",
              "      border: none;\n",
              "      border-radius: 50%;\n",
              "      cursor: pointer;\n",
              "      display: none;\n",
              "      fill: #1967D2;\n",
              "      height: 32px;\n",
              "      padding: 0 0 0 0;\n",
              "      width: 32px;\n",
              "    }\n",
              "\n",
              "    .colab-df-convert:hover {\n",
              "      background-color: #E2EBFA;\n",
              "      box-shadow: 0px 1px 2px rgba(60, 64, 67, 0.3), 0px 1px 3px 1px rgba(60, 64, 67, 0.15);\n",
              "      fill: #174EA6;\n",
              "    }\n",
              "\n",
              "    [theme=dark] .colab-df-convert {\n",
              "      background-color: #3B4455;\n",
              "      fill: #D2E3FC;\n",
              "    }\n",
              "\n",
              "    [theme=dark] .colab-df-convert:hover {\n",
              "      background-color: #434B5C;\n",
              "      box-shadow: 0px 1px 3px 1px rgba(0, 0, 0, 0.15);\n",
              "      filter: drop-shadow(0px 1px 2px rgba(0, 0, 0, 0.3));\n",
              "      fill: #FFFFFF;\n",
              "    }\n",
              "  </style>\n",
              "\n",
              "      <script>\n",
              "        const buttonEl =\n",
              "          document.querySelector('#df-2186c98a-e64a-4a45-90a9-e1cbc7d94966 button.colab-df-convert');\n",
              "        buttonEl.style.display =\n",
              "          google.colab.kernel.accessAllowed ? 'block' : 'none';\n",
              "\n",
              "        async function convertToInteractive(key) {\n",
              "          const element = document.querySelector('#df-2186c98a-e64a-4a45-90a9-e1cbc7d94966');\n",
              "          const dataTable =\n",
              "            await google.colab.kernel.invokeFunction('convertToInteractive',\n",
              "                                                     [key], {});\n",
              "          if (!dataTable) return;\n",
              "\n",
              "          const docLinkHtml = 'Like what you see? Visit the ' +\n",
              "            '<a target=\"_blank\" href=https://colab.research.google.com/notebooks/data_table.ipynb>data table notebook</a>'\n",
              "            + ' to learn more about interactive tables.';\n",
              "          element.innerHTML = '';\n",
              "          dataTable['output_type'] = 'display_data';\n",
              "          await google.colab.output.renderOutput(dataTable, element);\n",
              "          const docLink = document.createElement('div');\n",
              "          docLink.innerHTML = docLinkHtml;\n",
              "          element.appendChild(docLink);\n",
              "        }\n",
              "      </script>\n",
              "    </div>\n",
              "  </div>\n",
              "  "
            ]
          },
          "metadata": {},
          "execution_count": 4
        }
      ]
    },
    {
      "cell_type": "code",
      "source": [
        "data.info()"
      ],
      "metadata": {
        "colab": {
          "base_uri": "https://localhost:8080/"
        },
        "id": "Ew4xjlRl7Jl3",
        "outputId": "bc8ca4be-bcdc-4ef2-d4df-19025c29bf53"
      },
      "execution_count": 5,
      "outputs": [
        {
          "output_type": "stream",
          "name": "stdout",
          "text": [
            "<class 'pandas.core.frame.DataFrame'>\n",
            "RangeIndex: 125 entries, 0 to 124\n",
            "Data columns (total 3 columns):\n",
            " #   Column   Non-Null Count  Dtype \n",
            "---  ------   --------------  ----- \n",
            " 0   title    125 non-null    object\n",
            " 1   score    125 non-null    object\n",
            " 2   content  125 non-null    object\n",
            "dtypes: object(3)\n",
            "memory usage: 3.1+ KB\n"
          ]
        }
      ]
    },
    {
      "cell_type": "code",
      "source": [
        "import tensorflow as tf\n",
        "from tensorflow.keras.preprocessing.text import Tokenizer\n",
        "from tensorflow.keras.preprocessing.sequence import pad_sequences\n",
        "import numpy as np"
      ],
      "metadata": {
        "id": "FoRth4VM3rNA"
      },
      "execution_count": 6,
      "outputs": []
    },
    {
      "cell_type": "code",
      "source": [
        "new_model = tf.keras.models.load_model('model_lstm.h5')"
      ],
      "metadata": {
        "id": "RbdNaRXs4P1D"
      },
      "execution_count": 7,
      "outputs": []
    },
    {
      "cell_type": "code",
      "source": [
        "pred = data['content'].astype(str)\n",
        "\n",
        "vocab_size = 50000\n",
        "max_length = 284\n",
        "oov_tok = \"<OOV>\"\n",
        "truc_type = 'post'\n",
        "tokenizer = Tokenizer(num_words = vocab_size, oov_token=oov_tok)\n",
        "tokenizer.fit_on_texts(pred)\n",
        "pred_seq = tokenizer.texts_to_sequences(pred)\n",
        "pred_padded = pad_sequences(pred_seq, maxlen=max_length, truncating=truc_type)"
      ],
      "metadata": {
        "id": "4vlN25sP4WS8"
      },
      "execution_count": 8,
      "outputs": []
    },
    {
      "cell_type": "code",
      "source": [
        "len(pred_padded)"
      ],
      "metadata": {
        "colab": {
          "base_uri": "https://localhost:8080/"
        },
        "id": "5sOh7jPcACeV",
        "outputId": "5583ab1e-5dc9-4b1c-bced-608fc1b45772"
      },
      "execution_count": 9,
      "outputs": [
        {
          "output_type": "execute_result",
          "data": {
            "text/plain": [
              "125"
            ]
          },
          "metadata": {},
          "execution_count": 9
        }
      ]
    },
    {
      "cell_type": "code",
      "source": [
        "scores = new_model.predict(pred_padded)\n",
        "labels = []\n",
        "\n",
        "for score in scores:\n",
        "    if score > 0.6:\n",
        "        labels.append(\"positive\")\n",
        "    elif 0.6 > score > 0.4:\n",
        "        labels.append('neutral')\n",
        "    else:\n",
        "        labels.append(\"negative\")"
      ],
      "metadata": {
        "colab": {
          "base_uri": "https://localhost:8080/"
        },
        "id": "P2SkBCQe5ig9",
        "outputId": "48b81516-9cb5-47f2-8447-ade96f49de0b"
      },
      "execution_count": 10,
      "outputs": [
        {
          "output_type": "stream",
          "name": "stdout",
          "text": [
            "4/4 [==============================] - 2s 54ms/step\n"
          ]
        }
      ]
    },
    {
      "cell_type": "code",
      "source": [
        "print(labels)"
      ],
      "metadata": {
        "colab": {
          "base_uri": "https://localhost:8080/"
        },
        "id": "j-ApsvPK6408",
        "outputId": "1c3439ef-ae69-4478-fe97-cfc70f1311dc"
      },
      "execution_count": 11,
      "outputs": [
        {
          "output_type": "stream",
          "name": "stdout",
          "text": [
            "['positive', 'positive', 'positive', 'neutral', 'positive', 'negative', 'negative', 'positive', 'positive', 'positive', 'negative', 'negative', 'positive', 'positive', 'positive', 'negative', 'positive', 'positive', 'negative', 'positive', 'negative', 'positive', 'positive', 'positive', 'negative', 'positive', 'positive', 'positive', 'neutral', 'positive', 'negative', 'negative', 'positive', 'positive', 'positive', 'negative', 'negative', 'positive', 'positive', 'positive', 'negative', 'positive', 'positive', 'negative', 'positive', 'negative', 'positive', 'positive', 'positive', 'negative', 'positive', 'positive', 'positive', 'neutral', 'positive', 'negative', 'negative', 'positive', 'positive', 'positive', 'negative', 'negative', 'positive', 'positive', 'positive', 'negative', 'positive', 'positive', 'negative', 'positive', 'negative', 'positive', 'positive', 'positive', 'negative', 'positive', 'positive', 'positive', 'neutral', 'positive', 'negative', 'negative', 'positive', 'positive', 'positive', 'negative', 'negative', 'positive', 'positive', 'positive', 'negative', 'positive', 'positive', 'negative', 'positive', 'negative', 'positive', 'positive', 'positive', 'negative', 'positive', 'positive', 'positive', 'neutral', 'positive', 'negative', 'negative', 'positive', 'positive', 'positive', 'negative', 'negative', 'positive', 'positive', 'positive', 'negative', 'positive', 'positive', 'negative', 'positive', 'negative', 'positive', 'positive', 'positive', 'negative']\n"
          ]
        }
      ]
    },
    {
      "cell_type": "code",
      "source": [
        "len(labels)"
      ],
      "metadata": {
        "colab": {
          "base_uri": "https://localhost:8080/"
        },
        "id": "W1LOIGML7O6C",
        "outputId": "c0d26885-1274-4aae-fe70-aa255f65772a"
      },
      "execution_count": 12,
      "outputs": [
        {
          "output_type": "execute_result",
          "data": {
            "text/plain": [
              "125"
            ]
          },
          "metadata": {},
          "execution_count": 12
        }
      ]
    },
    {
      "cell_type": "code",
      "source": [
        "data['sentimen'] = labels"
      ],
      "metadata": {
        "id": "jcrIOa5X7QVp"
      },
      "execution_count": 13,
      "outputs": []
    },
    {
      "cell_type": "code",
      "source": [
        "film = ['Black Panther (2018)']*125\n",
        "print(film)"
      ],
      "metadata": {
        "colab": {
          "base_uri": "https://localhost:8080/"
        },
        "id": "NVTYrrmr8ulN",
        "outputId": "d6582f4b-6a1c-4eea-eb14-861b06787a9e"
      },
      "execution_count": 14,
      "outputs": [
        {
          "output_type": "stream",
          "name": "stdout",
          "text": [
            "['Black Panther (2018)', 'Black Panther (2018)', 'Black Panther (2018)', 'Black Panther (2018)', 'Black Panther (2018)', 'Black Panther (2018)', 'Black Panther (2018)', 'Black Panther (2018)', 'Black Panther (2018)', 'Black Panther (2018)', 'Black Panther (2018)', 'Black Panther (2018)', 'Black Panther (2018)', 'Black Panther (2018)', 'Black Panther (2018)', 'Black Panther (2018)', 'Black Panther (2018)', 'Black Panther (2018)', 'Black Panther (2018)', 'Black Panther (2018)', 'Black Panther (2018)', 'Black Panther (2018)', 'Black Panther (2018)', 'Black Panther (2018)', 'Black Panther (2018)', 'Black Panther (2018)', 'Black Panther (2018)', 'Black Panther (2018)', 'Black Panther (2018)', 'Black Panther (2018)', 'Black Panther (2018)', 'Black Panther (2018)', 'Black Panther (2018)', 'Black Panther (2018)', 'Black Panther (2018)', 'Black Panther (2018)', 'Black Panther (2018)', 'Black Panther (2018)', 'Black Panther (2018)', 'Black Panther (2018)', 'Black Panther (2018)', 'Black Panther (2018)', 'Black Panther (2018)', 'Black Panther (2018)', 'Black Panther (2018)', 'Black Panther (2018)', 'Black Panther (2018)', 'Black Panther (2018)', 'Black Panther (2018)', 'Black Panther (2018)', 'Black Panther (2018)', 'Black Panther (2018)', 'Black Panther (2018)', 'Black Panther (2018)', 'Black Panther (2018)', 'Black Panther (2018)', 'Black Panther (2018)', 'Black Panther (2018)', 'Black Panther (2018)', 'Black Panther (2018)', 'Black Panther (2018)', 'Black Panther (2018)', 'Black Panther (2018)', 'Black Panther (2018)', 'Black Panther (2018)', 'Black Panther (2018)', 'Black Panther (2018)', 'Black Panther (2018)', 'Black Panther (2018)', 'Black Panther (2018)', 'Black Panther (2018)', 'Black Panther (2018)', 'Black Panther (2018)', 'Black Panther (2018)', 'Black Panther (2018)', 'Black Panther (2018)', 'Black Panther (2018)', 'Black Panther (2018)', 'Black Panther (2018)', 'Black Panther (2018)', 'Black Panther (2018)', 'Black Panther (2018)', 'Black Panther (2018)', 'Black Panther (2018)', 'Black Panther (2018)', 'Black Panther (2018)', 'Black Panther (2018)', 'Black Panther (2018)', 'Black Panther (2018)', 'Black Panther (2018)', 'Black Panther (2018)', 'Black Panther (2018)', 'Black Panther (2018)', 'Black Panther (2018)', 'Black Panther (2018)', 'Black Panther (2018)', 'Black Panther (2018)', 'Black Panther (2018)', 'Black Panther (2018)', 'Black Panther (2018)', 'Black Panther (2018)', 'Black Panther (2018)', 'Black Panther (2018)', 'Black Panther (2018)', 'Black Panther (2018)', 'Black Panther (2018)', 'Black Panther (2018)', 'Black Panther (2018)', 'Black Panther (2018)', 'Black Panther (2018)', 'Black Panther (2018)', 'Black Panther (2018)', 'Black Panther (2018)', 'Black Panther (2018)', 'Black Panther (2018)', 'Black Panther (2018)', 'Black Panther (2018)', 'Black Panther (2018)', 'Black Panther (2018)', 'Black Panther (2018)', 'Black Panther (2018)', 'Black Panther (2018)', 'Black Panther (2018)', 'Black Panther (2018)', 'Black Panther (2018)']\n"
          ]
        }
      ]
    },
    {
      "cell_type": "code",
      "source": [
        "data['film']=film"
      ],
      "metadata": {
        "id": "o_YUu1Mn8-Qj"
      },
      "execution_count": 15,
      "outputs": []
    },
    {
      "cell_type": "code",
      "source": [
        "data.head(10)"
      ],
      "metadata": {
        "colab": {
          "base_uri": "https://localhost:8080/",
          "height": 1859
        },
        "id": "9MwpX3YX78fo",
        "outputId": "ddb9dbf8-1dec-4517-accd-f91853a84f12"
      },
      "execution_count": 16,
      "outputs": [
        {
          "output_type": "execute_result",
          "data": {
            "text/plain": [
              "                                               title               score  \\\n",
              "0                                             Dull\\n  \\n\\n\\n\\n\\n\\n5/10\\n   \n",
              "1   I wish I enjoyed it like so many did, it just...  \\n\\n\\n\\n\\n\\n3/10\\n   \n",
              "2   Despite all the hype, pretty much your averag...  \\n\\n\\n\\n\\n\\n4/10\\n   \n",
              "3                             I liked it at first.\\n  \\n\\n\\n\\n\\n\\n5/10\\n   \n",
              "4                             Absolutely Overrated\\n  \\n\\n\\n\\n\\n\\n5/10\\n   \n",
              "5                                 An Honest Review\\n  \\n\\n\\n\\n\\n\\n1/10\\n   \n",
              "6   Over hyped because it has a lot of Black peop...  \\n\\n\\n\\n\\n\\n5/10\\n   \n",
              "7                         Doesn't quite reign king\\n  \\n\\n\\n\\n\\n\\n6/10\\n   \n",
              "8   Most overrated MCU movie and extremely generic\\n  \\n\\n\\n\\n\\n\\n1/10\\n   \n",
              "9                                    Disappointing\\n  \\n\\n\\n\\n\\n\\n2/10\\n   \n",
              "\n",
              "                                             content  sentimen  \\\n",
              "0  I don't have a comic book background (well I d...  positive   \n",
              "1  I feel so bad giving this film a poor rating, ...  positive   \n",
              "2  After the death of his father, Prince T'Challa...  positive   \n",
              "3  I am between a 5 and a 6 on this. It was vastl...   neutral   \n",
              "4  \"Black Panther\" is a great deception for any v...  positive   \n",
              "5  I guess, because of the hype, I was expecting ...  negative   \n",
              "6  First of all before anyone calls me racist on ...  negative   \n",
              "7  Wanted to see 'Black Panther' for a while, one...  positive   \n",
              "8  I managed to see this movie again during the w...  positive   \n",
              "9  This was supposed to be the newest and best Ma...  positive   \n",
              "\n",
              "                   film  \n",
              "0  Black Panther (2018)  \n",
              "1  Black Panther (2018)  \n",
              "2  Black Panther (2018)  \n",
              "3  Black Panther (2018)  \n",
              "4  Black Panther (2018)  \n",
              "5  Black Panther (2018)  \n",
              "6  Black Panther (2018)  \n",
              "7  Black Panther (2018)  \n",
              "8  Black Panther (2018)  \n",
              "9  Black Panther (2018)  "
            ],
            "text/html": [
              "\n",
              "  <div id=\"df-80cc78e3-dd09-4b21-a093-c6302e11395f\">\n",
              "    <div class=\"colab-df-container\">\n",
              "      <div>\n",
              "<style scoped>\n",
              "    .dataframe tbody tr th:only-of-type {\n",
              "        vertical-align: middle;\n",
              "    }\n",
              "\n",
              "    .dataframe tbody tr th {\n",
              "        vertical-align: top;\n",
              "    }\n",
              "\n",
              "    .dataframe thead th {\n",
              "        text-align: right;\n",
              "    }\n",
              "</style>\n",
              "<table border=\"1\" class=\"dataframe\">\n",
              "  <thead>\n",
              "    <tr style=\"text-align: right;\">\n",
              "      <th></th>\n",
              "      <th>title</th>\n",
              "      <th>score</th>\n",
              "      <th>content</th>\n",
              "      <th>sentimen</th>\n",
              "      <th>film</th>\n",
              "    </tr>\n",
              "  </thead>\n",
              "  <tbody>\n",
              "    <tr>\n",
              "      <th>0</th>\n",
              "      <td>Dull\\n</td>\n",
              "      <td>\\n\\n\\n\\n\\n\\n5/10\\n</td>\n",
              "      <td>I don't have a comic book background (well I d...</td>\n",
              "      <td>positive</td>\n",
              "      <td>Black Panther (2018)</td>\n",
              "    </tr>\n",
              "    <tr>\n",
              "      <th>1</th>\n",
              "      <td>I wish I enjoyed it like so many did, it just...</td>\n",
              "      <td>\\n\\n\\n\\n\\n\\n3/10\\n</td>\n",
              "      <td>I feel so bad giving this film a poor rating, ...</td>\n",
              "      <td>positive</td>\n",
              "      <td>Black Panther (2018)</td>\n",
              "    </tr>\n",
              "    <tr>\n",
              "      <th>2</th>\n",
              "      <td>Despite all the hype, pretty much your averag...</td>\n",
              "      <td>\\n\\n\\n\\n\\n\\n4/10\\n</td>\n",
              "      <td>After the death of his father, Prince T'Challa...</td>\n",
              "      <td>positive</td>\n",
              "      <td>Black Panther (2018)</td>\n",
              "    </tr>\n",
              "    <tr>\n",
              "      <th>3</th>\n",
              "      <td>I liked it at first.\\n</td>\n",
              "      <td>\\n\\n\\n\\n\\n\\n5/10\\n</td>\n",
              "      <td>I am between a 5 and a 6 on this. It was vastl...</td>\n",
              "      <td>neutral</td>\n",
              "      <td>Black Panther (2018)</td>\n",
              "    </tr>\n",
              "    <tr>\n",
              "      <th>4</th>\n",
              "      <td>Absolutely Overrated\\n</td>\n",
              "      <td>\\n\\n\\n\\n\\n\\n5/10\\n</td>\n",
              "      <td>\"Black Panther\" is a great deception for any v...</td>\n",
              "      <td>positive</td>\n",
              "      <td>Black Panther (2018)</td>\n",
              "    </tr>\n",
              "    <tr>\n",
              "      <th>5</th>\n",
              "      <td>An Honest Review\\n</td>\n",
              "      <td>\\n\\n\\n\\n\\n\\n1/10\\n</td>\n",
              "      <td>I guess, because of the hype, I was expecting ...</td>\n",
              "      <td>negative</td>\n",
              "      <td>Black Panther (2018)</td>\n",
              "    </tr>\n",
              "    <tr>\n",
              "      <th>6</th>\n",
              "      <td>Over hyped because it has a lot of Black peop...</td>\n",
              "      <td>\\n\\n\\n\\n\\n\\n5/10\\n</td>\n",
              "      <td>First of all before anyone calls me racist on ...</td>\n",
              "      <td>negative</td>\n",
              "      <td>Black Panther (2018)</td>\n",
              "    </tr>\n",
              "    <tr>\n",
              "      <th>7</th>\n",
              "      <td>Doesn't quite reign king\\n</td>\n",
              "      <td>\\n\\n\\n\\n\\n\\n6/10\\n</td>\n",
              "      <td>Wanted to see 'Black Panther' for a while, one...</td>\n",
              "      <td>positive</td>\n",
              "      <td>Black Panther (2018)</td>\n",
              "    </tr>\n",
              "    <tr>\n",
              "      <th>8</th>\n",
              "      <td>Most overrated MCU movie and extremely generic\\n</td>\n",
              "      <td>\\n\\n\\n\\n\\n\\n1/10\\n</td>\n",
              "      <td>I managed to see this movie again during the w...</td>\n",
              "      <td>positive</td>\n",
              "      <td>Black Panther (2018)</td>\n",
              "    </tr>\n",
              "    <tr>\n",
              "      <th>9</th>\n",
              "      <td>Disappointing\\n</td>\n",
              "      <td>\\n\\n\\n\\n\\n\\n2/10\\n</td>\n",
              "      <td>This was supposed to be the newest and best Ma...</td>\n",
              "      <td>positive</td>\n",
              "      <td>Black Panther (2018)</td>\n",
              "    </tr>\n",
              "  </tbody>\n",
              "</table>\n",
              "</div>\n",
              "      <button class=\"colab-df-convert\" onclick=\"convertToInteractive('df-80cc78e3-dd09-4b21-a093-c6302e11395f')\"\n",
              "              title=\"Convert this dataframe to an interactive table.\"\n",
              "              style=\"display:none;\">\n",
              "        \n",
              "  <svg xmlns=\"http://www.w3.org/2000/svg\" height=\"24px\"viewBox=\"0 0 24 24\"\n",
              "       width=\"24px\">\n",
              "    <path d=\"M0 0h24v24H0V0z\" fill=\"none\"/>\n",
              "    <path d=\"M18.56 5.44l.94 2.06.94-2.06 2.06-.94-2.06-.94-.94-2.06-.94 2.06-2.06.94zm-11 1L8.5 8.5l.94-2.06 2.06-.94-2.06-.94L8.5 2.5l-.94 2.06-2.06.94zm10 10l.94 2.06.94-2.06 2.06-.94-2.06-.94-.94-2.06-.94 2.06-2.06.94z\"/><path d=\"M17.41 7.96l-1.37-1.37c-.4-.4-.92-.59-1.43-.59-.52 0-1.04.2-1.43.59L10.3 9.45l-7.72 7.72c-.78.78-.78 2.05 0 2.83L4 21.41c.39.39.9.59 1.41.59.51 0 1.02-.2 1.41-.59l7.78-7.78 2.81-2.81c.8-.78.8-2.07 0-2.86zM5.41 20L4 18.59l7.72-7.72 1.47 1.35L5.41 20z\"/>\n",
              "  </svg>\n",
              "      </button>\n",
              "      \n",
              "  <style>\n",
              "    .colab-df-container {\n",
              "      display:flex;\n",
              "      flex-wrap:wrap;\n",
              "      gap: 12px;\n",
              "    }\n",
              "\n",
              "    .colab-df-convert {\n",
              "      background-color: #E8F0FE;\n",
              "      border: none;\n",
              "      border-radius: 50%;\n",
              "      cursor: pointer;\n",
              "      display: none;\n",
              "      fill: #1967D2;\n",
              "      height: 32px;\n",
              "      padding: 0 0 0 0;\n",
              "      width: 32px;\n",
              "    }\n",
              "\n",
              "    .colab-df-convert:hover {\n",
              "      background-color: #E2EBFA;\n",
              "      box-shadow: 0px 1px 2px rgba(60, 64, 67, 0.3), 0px 1px 3px 1px rgba(60, 64, 67, 0.15);\n",
              "      fill: #174EA6;\n",
              "    }\n",
              "\n",
              "    [theme=dark] .colab-df-convert {\n",
              "      background-color: #3B4455;\n",
              "      fill: #D2E3FC;\n",
              "    }\n",
              "\n",
              "    [theme=dark] .colab-df-convert:hover {\n",
              "      background-color: #434B5C;\n",
              "      box-shadow: 0px 1px 3px 1px rgba(0, 0, 0, 0.15);\n",
              "      filter: drop-shadow(0px 1px 2px rgba(0, 0, 0, 0.3));\n",
              "      fill: #FFFFFF;\n",
              "    }\n",
              "  </style>\n",
              "\n",
              "      <script>\n",
              "        const buttonEl =\n",
              "          document.querySelector('#df-80cc78e3-dd09-4b21-a093-c6302e11395f button.colab-df-convert');\n",
              "        buttonEl.style.display =\n",
              "          google.colab.kernel.accessAllowed ? 'block' : 'none';\n",
              "\n",
              "        async function convertToInteractive(key) {\n",
              "          const element = document.querySelector('#df-80cc78e3-dd09-4b21-a093-c6302e11395f');\n",
              "          const dataTable =\n",
              "            await google.colab.kernel.invokeFunction('convertToInteractive',\n",
              "                                                     [key], {});\n",
              "          if (!dataTable) return;\n",
              "\n",
              "          const docLinkHtml = 'Like what you see? Visit the ' +\n",
              "            '<a target=\"_blank\" href=https://colab.research.google.com/notebooks/data_table.ipynb>data table notebook</a>'\n",
              "            + ' to learn more about interactive tables.';\n",
              "          element.innerHTML = '';\n",
              "          dataTable['output_type'] = 'display_data';\n",
              "          await google.colab.output.renderOutput(dataTable, element);\n",
              "          const docLink = document.createElement('div');\n",
              "          docLink.innerHTML = docLinkHtml;\n",
              "          element.appendChild(docLink);\n",
              "        }\n",
              "      </script>\n",
              "    </div>\n",
              "  </div>\n",
              "  "
            ]
          },
          "metadata": {},
          "execution_count": 16
        }
      ]
    },
    {
      "cell_type": "code",
      "source": [
        "data.tail()"
      ],
      "metadata": {
        "colab": {
          "base_uri": "https://localhost:8080/",
          "height": 206
        },
        "id": "3te-XLLsAPIx",
        "outputId": "b82b5c25-3363-40dc-91f0-498810d349ec"
      },
      "execution_count": 17,
      "outputs": [
        {
          "output_type": "execute_result",
          "data": {
            "text/plain": [
              "                                                 title               score  \\\n",
              "120                          An Exercise In Nonsense\\n  \\n\\n\\n\\n\\n\\n2/10\\n   \n",
              "121                               Long Live the King\\n  \\n\\n\\n\\n\\n\\n8/10\\n   \n",
              "122   Black Panther: The emperor isn't wearing any ...  \\n\\n\\n\\n\\n\\n4/10\\n   \n",
              "123   Most undeservingly overhyped movie of all tim...  \\n\\n\\n\\n\\n\\n1/10\\n   \n",
              "124                  I used to love Black Panther...\\n  \\n\\n\\n\\n\\n\\n2/10\\n   \n",
              "\n",
              "                                               content  sentimen  \\\n",
              "120  This thing is being over-hyped to the max. The...  negative   \n",
              "121  Black Panther, directed by Ryan Coogler, tells...  positive   \n",
              "122  Marvel fantasy origin film. Based in 'Wakanda'...  positive   \n",
              "123  Subpar to say the least. Political partisanshi...  positive   \n",
              "124  Black Panther was the very first black superhe...  negative   \n",
              "\n",
              "                     film  \n",
              "120  Black Panther (2018)  \n",
              "121  Black Panther (2018)  \n",
              "122  Black Panther (2018)  \n",
              "123  Black Panther (2018)  \n",
              "124  Black Panther (2018)  "
            ],
            "text/html": [
              "\n",
              "  <div id=\"df-4c3ca6b4-dcef-4fda-b025-ef9f957ac228\">\n",
              "    <div class=\"colab-df-container\">\n",
              "      <div>\n",
              "<style scoped>\n",
              "    .dataframe tbody tr th:only-of-type {\n",
              "        vertical-align: middle;\n",
              "    }\n",
              "\n",
              "    .dataframe tbody tr th {\n",
              "        vertical-align: top;\n",
              "    }\n",
              "\n",
              "    .dataframe thead th {\n",
              "        text-align: right;\n",
              "    }\n",
              "</style>\n",
              "<table border=\"1\" class=\"dataframe\">\n",
              "  <thead>\n",
              "    <tr style=\"text-align: right;\">\n",
              "      <th></th>\n",
              "      <th>title</th>\n",
              "      <th>score</th>\n",
              "      <th>content</th>\n",
              "      <th>sentimen</th>\n",
              "      <th>film</th>\n",
              "    </tr>\n",
              "  </thead>\n",
              "  <tbody>\n",
              "    <tr>\n",
              "      <th>120</th>\n",
              "      <td>An Exercise In Nonsense\\n</td>\n",
              "      <td>\\n\\n\\n\\n\\n\\n2/10\\n</td>\n",
              "      <td>This thing is being over-hyped to the max. The...</td>\n",
              "      <td>negative</td>\n",
              "      <td>Black Panther (2018)</td>\n",
              "    </tr>\n",
              "    <tr>\n",
              "      <th>121</th>\n",
              "      <td>Long Live the King\\n</td>\n",
              "      <td>\\n\\n\\n\\n\\n\\n8/10\\n</td>\n",
              "      <td>Black Panther, directed by Ryan Coogler, tells...</td>\n",
              "      <td>positive</td>\n",
              "      <td>Black Panther (2018)</td>\n",
              "    </tr>\n",
              "    <tr>\n",
              "      <th>122</th>\n",
              "      <td>Black Panther: The emperor isn't wearing any ...</td>\n",
              "      <td>\\n\\n\\n\\n\\n\\n4/10\\n</td>\n",
              "      <td>Marvel fantasy origin film. Based in 'Wakanda'...</td>\n",
              "      <td>positive</td>\n",
              "      <td>Black Panther (2018)</td>\n",
              "    </tr>\n",
              "    <tr>\n",
              "      <th>123</th>\n",
              "      <td>Most undeservingly overhyped movie of all tim...</td>\n",
              "      <td>\\n\\n\\n\\n\\n\\n1/10\\n</td>\n",
              "      <td>Subpar to say the least. Political partisanshi...</td>\n",
              "      <td>positive</td>\n",
              "      <td>Black Panther (2018)</td>\n",
              "    </tr>\n",
              "    <tr>\n",
              "      <th>124</th>\n",
              "      <td>I used to love Black Panther...\\n</td>\n",
              "      <td>\\n\\n\\n\\n\\n\\n2/10\\n</td>\n",
              "      <td>Black Panther was the very first black superhe...</td>\n",
              "      <td>negative</td>\n",
              "      <td>Black Panther (2018)</td>\n",
              "    </tr>\n",
              "  </tbody>\n",
              "</table>\n",
              "</div>\n",
              "      <button class=\"colab-df-convert\" onclick=\"convertToInteractive('df-4c3ca6b4-dcef-4fda-b025-ef9f957ac228')\"\n",
              "              title=\"Convert this dataframe to an interactive table.\"\n",
              "              style=\"display:none;\">\n",
              "        \n",
              "  <svg xmlns=\"http://www.w3.org/2000/svg\" height=\"24px\"viewBox=\"0 0 24 24\"\n",
              "       width=\"24px\">\n",
              "    <path d=\"M0 0h24v24H0V0z\" fill=\"none\"/>\n",
              "    <path d=\"M18.56 5.44l.94 2.06.94-2.06 2.06-.94-2.06-.94-.94-2.06-.94 2.06-2.06.94zm-11 1L8.5 8.5l.94-2.06 2.06-.94-2.06-.94L8.5 2.5l-.94 2.06-2.06.94zm10 10l.94 2.06.94-2.06 2.06-.94-2.06-.94-.94-2.06-.94 2.06-2.06.94z\"/><path d=\"M17.41 7.96l-1.37-1.37c-.4-.4-.92-.59-1.43-.59-.52 0-1.04.2-1.43.59L10.3 9.45l-7.72 7.72c-.78.78-.78 2.05 0 2.83L4 21.41c.39.39.9.59 1.41.59.51 0 1.02-.2 1.41-.59l7.78-7.78 2.81-2.81c.8-.78.8-2.07 0-2.86zM5.41 20L4 18.59l7.72-7.72 1.47 1.35L5.41 20z\"/>\n",
              "  </svg>\n",
              "      </button>\n",
              "      \n",
              "  <style>\n",
              "    .colab-df-container {\n",
              "      display:flex;\n",
              "      flex-wrap:wrap;\n",
              "      gap: 12px;\n",
              "    }\n",
              "\n",
              "    .colab-df-convert {\n",
              "      background-color: #E8F0FE;\n",
              "      border: none;\n",
              "      border-radius: 50%;\n",
              "      cursor: pointer;\n",
              "      display: none;\n",
              "      fill: #1967D2;\n",
              "      height: 32px;\n",
              "      padding: 0 0 0 0;\n",
              "      width: 32px;\n",
              "    }\n",
              "\n",
              "    .colab-df-convert:hover {\n",
              "      background-color: #E2EBFA;\n",
              "      box-shadow: 0px 1px 2px rgba(60, 64, 67, 0.3), 0px 1px 3px 1px rgba(60, 64, 67, 0.15);\n",
              "      fill: #174EA6;\n",
              "    }\n",
              "\n",
              "    [theme=dark] .colab-df-convert {\n",
              "      background-color: #3B4455;\n",
              "      fill: #D2E3FC;\n",
              "    }\n",
              "\n",
              "    [theme=dark] .colab-df-convert:hover {\n",
              "      background-color: #434B5C;\n",
              "      box-shadow: 0px 1px 3px 1px rgba(0, 0, 0, 0.15);\n",
              "      filter: drop-shadow(0px 1px 2px rgba(0, 0, 0, 0.3));\n",
              "      fill: #FFFFFF;\n",
              "    }\n",
              "  </style>\n",
              "\n",
              "      <script>\n",
              "        const buttonEl =\n",
              "          document.querySelector('#df-4c3ca6b4-dcef-4fda-b025-ef9f957ac228 button.colab-df-convert');\n",
              "        buttonEl.style.display =\n",
              "          google.colab.kernel.accessAllowed ? 'block' : 'none';\n",
              "\n",
              "        async function convertToInteractive(key) {\n",
              "          const element = document.querySelector('#df-4c3ca6b4-dcef-4fda-b025-ef9f957ac228');\n",
              "          const dataTable =\n",
              "            await google.colab.kernel.invokeFunction('convertToInteractive',\n",
              "                                                     [key], {});\n",
              "          if (!dataTable) return;\n",
              "\n",
              "          const docLinkHtml = 'Like what you see? Visit the ' +\n",
              "            '<a target=\"_blank\" href=https://colab.research.google.com/notebooks/data_table.ipynb>data table notebook</a>'\n",
              "            + ' to learn more about interactive tables.';\n",
              "          element.innerHTML = '';\n",
              "          dataTable['output_type'] = 'display_data';\n",
              "          await google.colab.output.renderOutput(dataTable, element);\n",
              "          const docLink = document.createElement('div');\n",
              "          docLink.innerHTML = docLinkHtml;\n",
              "          element.appendChild(docLink);\n",
              "        }\n",
              "      </script>\n",
              "    </div>\n",
              "  </div>\n",
              "  "
            ]
          },
          "metadata": {},
          "execution_count": 17
        }
      ]
    },
    {
      "cell_type": "code",
      "source": [
        "data.to_csv('blackpanther.csv', index=False)"
      ],
      "metadata": {
        "id": "PBWcyrKH79gY"
      },
      "execution_count": 18,
      "outputs": []
    }
  ]
}